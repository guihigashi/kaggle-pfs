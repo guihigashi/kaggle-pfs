{
 "cells": [
  {
   "cell_type": "code",
   "execution_count": 1,
   "metadata": {
    "pycharm": {
     "name": "#%%\n"
    }
   },
   "outputs": [],
   "source": [
    "import ipywidgets\n",
    "import matplotlib.pyplot as plt\n",
    "import numpy as np\n",
    "import pandas as pd\n",
    "import glob\n",
    "\n",
    "from kaggle_pfs.data import readers"
   ]
  },
  {
   "cell_type": "code",
   "execution_count": 2,
   "metadata": {
    "pycharm": {
     "name": "#%%\n"
    }
   },
   "outputs": [],
   "source": [
    "files = glob.glob(readers.data_path(\"interim\", \"emb-shop-*.csv\"))\n",
    "shop_df = pd.concat(map(pd.read_csv, files), ignore_index=True)\n",
    "last_epoch = shop_df.epoch.max()"
   ]
  },
  {
   "cell_type": "code",
   "execution_count": 3,
   "metadata": {
    "pycharm": {
     "name": "#%%\n"
    }
   },
   "outputs": [
    {
     "data": {
      "application/vnd.jupyter.widget-view+json": {
       "model_id": "ac2fe8534af54b03a45fee19360455d0",
       "version_major": 2,
       "version_minor": 0
      },
      "text/plain": [
       "interactive(children=(IntSlider(value=0, continuous_update=False, description='epoch', max=19), Output()), _do…"
      ]
     },
     "metadata": {},
     "output_type": "display_data"
    }
   ],
   "source": [
    "def add_label_to_row(ax):\n",
    "    def f(row):\n",
    "        ax.text(row[\"x\"] + 0.02, row[\"y\"] + 0.01, int(row[\"shop\"]), fontsize=18)\n",
    "\n",
    "    return f\n",
    "\n",
    "\n",
    "@ipywidgets.interact\n",
    "def f(epoch=ipywidgets.IntSlider(min=0, max=last_epoch, continuous_update=False)):\n",
    "    fig, ax = plt.subplots(1, 1, figsize=(12, 8))\n",
    "    ax.set_xlim([-2, 2])\n",
    "    ax.set_ylim([-2, 2])\n",
    "    df_iter = shop_df[shop_df[\"epoch\"] == epoch]\n",
    "    df_iter.plot(kind=\"scatter\", x=\"x\", y=\"y\", ax=ax, c=\"red\")\n",
    "    df_iter[[\"x\", \"y\", \"shop\"]].apply(add_label_to_row(ax), axis=1)"
   ]
  },
  {
   "cell_type": "code",
   "execution_count": 4,
   "metadata": {
    "pycharm": {
     "name": "#%%\n"
    }
   },
   "outputs": [],
   "source": [
    "files = glob.glob(readers.data_path(\"interim\", \"emb-item-*.csv\"))\n",
    "item_df = pd.concat(map(pd.read_csv, files), ignore_index=True)"
   ]
  },
  {
   "cell_type": "code",
   "execution_count": 5,
   "metadata": {
    "pycharm": {
     "name": "#%%\n"
    }
   },
   "outputs": [
    {
     "data": {
      "text/plain": [
       "22170"
      ]
     },
     "execution_count": 5,
     "metadata": {},
     "output_type": "execute_result"
    }
   ],
   "source": [
    "item_df.shop.nunique()"
   ]
  },
  {
   "cell_type": "code",
   "execution_count": 6,
   "metadata": {
    "pycharm": {
     "name": "#%%\n"
    }
   },
   "outputs": [],
   "source": [
    "selected_items = np.random.choice(item_df.shop.unique(), size=100, replace=False)"
   ]
  },
  {
   "cell_type": "code",
   "execution_count": 7,
   "metadata": {
    "pycharm": {
     "name": "#%%\n"
    }
   },
   "outputs": [],
   "source": [
    "filtered_item_df = item_df.loc[item_df.shop.isin(selected_items)]"
   ]
  },
  {
   "cell_type": "code",
   "execution_count": 8,
   "metadata": {
    "pycharm": {
     "name": "#%%\n"
    }
   },
   "outputs": [
    {
     "data": {
      "application/vnd.jupyter.widget-view+json": {
       "model_id": "fe4dab019077495b8ea535a2a640c029",
       "version_major": 2,
       "version_minor": 0
      },
      "text/plain": [
       "interactive(children=(IntSlider(value=0, continuous_update=False, description='epoch', max=19), Output()), _do…"
      ]
     },
     "metadata": {},
     "output_type": "display_data"
    }
   ],
   "source": [
    "@ipywidgets.interact\n",
    "def f(epoch=ipywidgets.IntSlider(min=0, max=last_epoch, continuous_update=False)):\n",
    "    fig, ax = plt.subplots(1, 1, figsize=(12, 8))\n",
    "    ax.set_xlim([-2, 2])\n",
    "    ax.set_ylim([-2, 2])\n",
    "    df_iter = filtered_item_df[filtered_item_df[\"epoch\"] == epoch]\n",
    "    df_iter.plot(kind=\"scatter\", x=\"x\", y=\"y\", ax=ax, c=\"red\")\n",
    "    df_iter[[\"x\", \"y\", \"shop\"]].apply(add_label_to_row(ax), axis=1)"
   ]
  },
  {
   "cell_type": "code",
   "execution_count": null,
   "metadata": {
    "pycharm": {
     "name": "#%%\n"
    }
   },
   "outputs": [],
   "source": []
  }
 ],
 "metadata": {
  "kernelspec": {
   "display_name": "kaggle-pfs",
   "language": "python",
   "name": "kaggle-pfs"
  },
  "language_info": {
   "codemirror_mode": {
    "name": "ipython",
    "version": 3
   },
   "file_extension": ".py",
   "mimetype": "text/x-python",
   "name": "python",
   "nbconvert_exporter": "python",
   "pygments_lexer": "ipython3",
   "version": "3.10.5"
  }
 },
 "nbformat": 4,
 "nbformat_minor": 4
}